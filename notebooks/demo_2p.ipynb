{
 "cells": [
  {
   "cell_type": "markdown",
   "metadata": {},
   "source": [
    "Code extracted from nems/scripts/demo_script_2p.py"
   ]
  },
  {
   "cell_type": "code",
   "execution_count": 2,
   "metadata": {},
   "outputs": [
    {
     "name": "stderr",
     "output_type": "stream",
     "text": [
      "[nems.configs.defaults INFO] Saving log messages to /tmp/nems/NEMS 2018-12-05 121831.log\n"
     ]
    }
   ],
   "source": [
    "import os\n",
    "import logging\n",
    "import pandas as pd\n",
    "import pickle\n",
    "import sys\n",
    "import numpy as np\n",
    "\n",
    "from nems.gui.recording_browser import browse_recording, browse_context\n",
    "import nems\n",
    "import nems.initializers\n",
    "import nems.priors\n",
    "import nems.preprocessing as preproc\n",
    "import nems.plots.api as nplt\n",
    "import nems.modelspec as ms\n",
    "import nems.xforms as xforms\n",
    "import nems.utils\n",
    "import nems.uri\n",
    "import nems.recording as recording\n",
    "from nems.signal import RasterizedSignal\n",
    "from nems.fitters.api import scipy_minimize\n",
    "import nems.db as nd\n",
    "\n",
    "log = logging.getLogger(__name__)\n"
   ]
  },
  {
   "cell_type": "markdown",
   "metadata": {},
   "source": [
    "here's the loading/parameter setting part"
   ]
  },
  {
   "cell_type": "code",
   "execution_count": 3,
   "metadata": {},
   "outputs": [],
   "source": [
    "# ----------------------------------------------------------------------------\n",
    "# LOAD AND FORMAT RECORDING DATA\n",
    "\n",
    "# data file and results locations\n",
    "# defined in nems/nems/configs/settings.py, which will override\n",
    "# defaults in nems/nems/configs/defaults.py\n",
    "results_dir = nems.get_setting('NEMS_RESULTS_DIR')\n",
    "recordings_dir = nems.get_setting('NEMS_RECORDINGS_DIR')\n",
    "\n",
    "# 2p data from Polley Lab at EPL\n",
    "respfile = os.path.join(recordings_dir, 'data_nems_2p/neurons.csv')\n",
    "stimfile = os.path.join(recordings_dir, 'data_nems_2p/stim_spectrogram.csv')\n",
    "exptid = \"POL001\"\n",
    "cellid = \"POL001-080\"\n",
    "batch = 1  # define the group of data this belong to (eg, 1: A1, 2: AAF, etc)\n",
    "load_command='nems.demo.loaders.load_polley_data'\n",
    "\n",
    "# MODEL SPEC\n",
    "# modelspecname = 'dlog_wcg18x1_stp1_fir1x15_lvl1_dexp1'\n",
    "modelspecname = 'wc.9x1.g-fir.1x15-lvl.1'\n",
    "meta = {'cellid': cellid, 'batch': batch, 'modelname': modelspecname}\n"
   ]
  },
  {
   "cell_type": "code",
   "execution_count": 20,
   "metadata": {},
   "outputs": [],
   "source": [
    "from nems.demo.loaders import load_polley_data\n",
    "r = load_polley_data(load_command=load_command,\n",
    "                respfile=respfile,\n",
    "                stimfile=stimfile,\n",
    "                exptid=exptid,\n",
    "                cellid=cellid)"
   ]
  },
  {
   "cell_type": "code",
   "execution_count": 25,
   "metadata": {},
   "outputs": [
    {
     "name": "stdout",
     "output_type": "stream",
     "text": [
      "dict_keys(['fs', 'resp', 'stim', 'stim_labels', 'resp_labels'])\n",
      "(9, 85051)\n"
     ]
    }
   ],
   "source": [
    "print(r.keys())\n",
    "print(r['stim'].shape)"
   ]
  },
  {
   "cell_type": "code",
   "execution_count": 26,
   "metadata": {},
   "outputs": [],
   "source": [
    "del r"
   ]
  },
  {
   "cell_type": "code",
   "execution_count": 27,
   "metadata": {},
   "outputs": [],
   "source": [
    "xfspec = []\n",
    "xfspec.append(['nems.xforms.load_recording_wrapper',\n",
    "               {'load_command': load_command,\n",
    "                'respfile': respfile,\n",
    "                'stimfile': stimfile,\n",
    "                'exptid': exptid,\n",
    "                'cellid': cellid}])\n",
    "\n",
    "# reserve 10% of the data for validation\n",
    "xfspec.append(['nems.xforms.split_at_time', {'valfrac': 0.1}])\n",
    "\n",
    "xfspec.append(['nems.xforms.init_from_keywords',\n",
    "               {'keywordstring': modelspecname, 'meta': meta}])\n",
    "\n",
    "xfspec.append(['nems.xforms.fit_basic_init', {}])\n",
    "xfspec.append(['nems.xforms.fit_basic', {}])\n",
    "xfspec.append(['nems.xforms.predict',    {}])\n",
    "# xfspec.append(['nems.xforms.add_summary_statistics',    {}])\n",
    "xfspec.append(['nems.analysis.api.standard_correlation', {},\n",
    "               ['est', 'val', 'modelspec', 'rec'], ['modelspec']])\n",
    "xfspec.append(['nems.xforms.plot_summary',    {}])\n"
   ]
  },
  {
   "cell_type": "code",
   "execution_count": 28,
   "metadata": {},
   "outputs": [
    {
     "data": {
      "text/plain": [
       "[['nems.xforms.load_recording_wrapper',\n",
       "  {'load_command': 'nems.demo.loaders.load_polley_data',\n",
       "   'respfile': '/Users/svd/python/nems/recordings/data_nems_2p/neurons.csv',\n",
       "   'stimfile': '/Users/svd/python/nems/recordings/data_nems_2p/stim_spectrogram.csv',\n",
       "   'exptid': 'POL001',\n",
       "   'cellid': 'POL001-080'}],\n",
       " ['nems.xforms.split_at_time', {'valfrac': 0.1}],\n",
       " ['nems.xforms.init_from_keywords',\n",
       "  {'keywordstring': 'wc.9x1.g-fir.1x15-lvl.1',\n",
       "   'meta': {'cellid': 'POL001-080',\n",
       "    'batch': 1,\n",
       "    'modelname': 'wc.9x1.g-fir.1x15-lvl.1'}}],\n",
       " ['nems.xforms.fit_basic_init', {}],\n",
       " ['nems.xforms.fit_basic', {}],\n",
       " ['nems.xforms.predict', {}],\n",
       " ['nems.analysis.api.standard_correlation',\n",
       "  {},\n",
       "  ['est', 'val', 'modelspec', 'rec'],\n",
       "  ['modelspec']],\n",
       " ['nems.xforms.plot_summary', {}]]"
      ]
     },
     "execution_count": 28,
     "metadata": {},
     "output_type": "execute_result"
    }
   ],
   "source": [
    "xfspec"
   ]
  },
  {
   "cell_type": "code",
   "execution_count": null,
   "metadata": {},
   "outputs": [
    {
     "name": "stderr",
     "output_type": "stream",
     "text": [
      "[nems.xforms INFO] Evaluating: nems.xforms.load_recording_wrapper\n",
      "[nems.xforms INFO] Loading cached file /Users/svd/python/nems/recordings/POL001_86e767f767be0796a601a03ba9fa253d474ce19a.tgz\n"
     ]
    }
   ],
   "source": [
    "# actually do the fit\n",
    "ctx, log_xf = xforms.evaluate(xfspec)\n",
    "\n",
    "# shorthand for:\n",
    "# ctx = {}\n",
    "# for xfa in xfspec:\n",
    "#     ctx = xforms.evaluate_step(xfa, ctx)\n"
   ]
  },
  {
   "cell_type": "code",
   "execution_count": null,
   "metadata": {},
   "outputs": [],
   "source": [
    "# testing new plotting system\n",
    "modelspec = ctx['modelspec']\n",
    "modelspec.quickplot(ctx['val'])"
   ]
  },
  {
   "cell_type": "code",
   "execution_count": null,
   "metadata": {},
   "outputs": [],
   "source": []
  },
  {
   "cell_type": "code",
   "execution_count": null,
   "metadata": {},
   "outputs": [],
   "source": [
    "# ----------------------------------------------------------------------------\n",
    "# SAVE YOUR RESULTS\n",
    "\n",
    "# save results to file\n",
    "destination = os.path.join(results_dir, str(batch), xforms.get_meta(ctx)['cellid'],\n",
    "                           ms.get_modelspec_longname(ctx['modelspec']))\n",
    "log.info('Saving modelspec(s) to {0} ...'.format(destination))\n",
    "xforms.save_analysis(destination,\n",
    "                     recording=ctx['rec'],\n",
    "                     modelspec=ctx['modelspec'],\n",
    "                     xfspec=xfspec,\n",
    "                     figures=ctx['figures'],\n",
    "                     log=log_xf)\n",
    "\n",
    "# save summary of results to a database\n",
    "log.info('Saving metadata to db  ...')\n",
    "modelspec = ctx['modelspec']\n",
    "modelspec.meta()['modelpath'] = destination\n",
    "modelspec.meta()['figurefile'] = destination + 'figure.0000.png'\n",
    "nd.update_results_table(modelspec)\n",
    "    "
   ]
  },
  {
   "cell_type": "code",
   "execution_count": null,
   "metadata": {},
   "outputs": [],
   "source": []
  },
  {
   "cell_type": "code",
   "execution_count": null,
   "metadata": {},
   "outputs": [],
   "source": [
    "# reload using:\n",
    "\"\"\"\n",
    "# repeated from above\n",
    "import nems.db as nd\n",
    "import nems.xforms as xforms\n",
    "\n",
    "# pick your cell/batch/model\n",
    "cellid = \"POL001-080\"\n",
    "batch = 1  # define the group of data this belong to (eg, 1: A1, 2: AAF, etc)\n",
    "modelspecname = 'wc.9x1.g-fir.1x15-lvl.1'\n",
    "\n",
    "# find the results in the database\n",
    "d=nd.get_results_file(batch=batch, cellids=[cellid], modelnames=[modelspecname])\n",
    "d.loc[0]\n",
    "filepath = d['modelpath'][0] + '/'\n",
    "\n",
    "# load and display results\n",
    "xfspec, ctx = xforms.load_analysis(filepath, eval_model=True)\n",
    "\"\"\"\n"
   ]
  }
 ],
 "metadata": {
  "kernelspec": {
   "display_name": "Python 3",
   "language": "python",
   "name": "python3"
  },
  "language_info": {
   "codemirror_mode": {
    "name": "ipython",
    "version": 3
   },
   "file_extension": ".py",
   "mimetype": "text/x-python",
   "name": "python",
   "nbconvert_exporter": "python",
   "pygments_lexer": "ipython3",
   "version": "3.6.7"
  }
 },
 "nbformat": 4,
 "nbformat_minor": 2
}
