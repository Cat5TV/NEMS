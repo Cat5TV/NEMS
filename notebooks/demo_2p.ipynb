{
 "cells": [
  {
   "cell_type": "markdown",
   "metadata": {},
   "source": [
    "Code extracted from nems/scripts/demo_script_2p.py"
   ]
  },
  {
   "cell_type": "code",
   "execution_count": 1,
   "metadata": {},
   "outputs": [
    {
     "name": "stderr",
     "output_type": "stream",
     "text": [
      "[nems.configs.defaults INFO] Saving log messages to /tmp/nems/NEMS 2018-12-05 131150.log\n",
      "/auto/users/svd/python/nems_test/nems/gui/recording_browser.py:32: UserWarning: \n",
      "This call to matplotlib.use() has no effect because the backend has already\n",
      "been chosen; matplotlib.use() must be called *before* pylab, matplotlib.pyplot,\n",
      "or matplotlib.backends is imported for the first time.\n",
      "\n",
      "The backend was *originally* set to 'module://ipykernel.pylab.backend_inline' by the following code:\n",
      "  File \"/home/svd/bin/miniconda3/envs/nems_test/lib/python3.6/runpy.py\", line 193, in _run_module_as_main\n",
      "    \"__main__\", mod_spec)\n",
      "  File \"/home/svd/bin/miniconda3/envs/nems_test/lib/python3.6/runpy.py\", line 85, in _run_code\n",
      "    exec(code, run_globals)\n",
      "  File \"/home/svd/bin/miniconda3/envs/nems_test/lib/python3.6/site-packages/ipykernel_launcher.py\", line 16, in <module>\n",
      "    app.launch_new_instance()\n",
      "  File \"/home/svd/bin/miniconda3/envs/nems_test/lib/python3.6/site-packages/traitlets/config/application.py\", line 658, in launch_instance\n",
      "    app.start()\n",
      "  File \"/home/svd/bin/miniconda3/envs/nems_test/lib/python3.6/site-packages/ipykernel/kernelapp.py\", line 477, in start\n",
      "    ioloop.IOLoop.instance().start()\n",
      "  File \"/home/svd/bin/miniconda3/envs/nems_test/lib/python3.6/site-packages/zmq/eventloop/ioloop.py\", line 177, in start\n",
      "    super(ZMQIOLoop, self).start()\n",
      "  File \"/home/svd/bin/miniconda3/envs/nems_test/lib/python3.6/site-packages/tornado/ioloop.py\", line 888, in start\n",
      "    handler_func(fd_obj, events)\n",
      "  File \"/home/svd/bin/miniconda3/envs/nems_test/lib/python3.6/site-packages/tornado/stack_context.py\", line 277, in null_wrapper\n",
      "    return fn(*args, **kwargs)\n",
      "  File \"/home/svd/bin/miniconda3/envs/nems_test/lib/python3.6/site-packages/zmq/eventloop/zmqstream.py\", line 440, in _handle_events\n",
      "    self._handle_recv()\n",
      "  File \"/home/svd/bin/miniconda3/envs/nems_test/lib/python3.6/site-packages/zmq/eventloop/zmqstream.py\", line 472, in _handle_recv\n",
      "    self._run_callback(callback, msg)\n",
      "  File \"/home/svd/bin/miniconda3/envs/nems_test/lib/python3.6/site-packages/zmq/eventloop/zmqstream.py\", line 414, in _run_callback\n",
      "    callback(*args, **kwargs)\n",
      "  File \"/home/svd/bin/miniconda3/envs/nems_test/lib/python3.6/site-packages/tornado/stack_context.py\", line 277, in null_wrapper\n",
      "    return fn(*args, **kwargs)\n",
      "  File \"/home/svd/bin/miniconda3/envs/nems_test/lib/python3.6/site-packages/ipykernel/kernelbase.py\", line 283, in dispatcher\n",
      "    return self.dispatch_shell(stream, msg)\n",
      "  File \"/home/svd/bin/miniconda3/envs/nems_test/lib/python3.6/site-packages/ipykernel/kernelbase.py\", line 235, in dispatch_shell\n",
      "    handler(stream, idents, msg)\n",
      "  File \"/home/svd/bin/miniconda3/envs/nems_test/lib/python3.6/site-packages/ipykernel/kernelbase.py\", line 399, in execute_request\n",
      "    user_expressions, allow_stdin)\n",
      "  File \"/home/svd/bin/miniconda3/envs/nems_test/lib/python3.6/site-packages/ipykernel/ipkernel.py\", line 196, in do_execute\n",
      "    res = shell.run_cell(code, store_history=store_history, silent=silent)\n",
      "  File \"/home/svd/bin/miniconda3/envs/nems_test/lib/python3.6/site-packages/ipykernel/zmqshell.py\", line 533, in run_cell\n",
      "    return super(ZMQInteractiveShell, self).run_cell(*args, **kwargs)\n",
      "  File \"/home/svd/bin/miniconda3/envs/nems_test/lib/python3.6/site-packages/IPython/core/interactiveshell.py\", line 2662, in run_cell\n",
      "    raw_cell, store_history, silent, shell_futures)\n",
      "  File \"/home/svd/bin/miniconda3/envs/nems_test/lib/python3.6/site-packages/IPython/core/interactiveshell.py\", line 2785, in _run_cell\n",
      "    interactivity=interactivity, compiler=compiler, result=result)\n",
      "  File \"/home/svd/bin/miniconda3/envs/nems_test/lib/python3.6/site-packages/IPython/core/interactiveshell.py\", line 2903, in run_ast_nodes\n",
      "    if self.run_code(code, result):\n",
      "  File \"/home/svd/bin/miniconda3/envs/nems_test/lib/python3.6/site-packages/IPython/core/interactiveshell.py\", line 2963, in run_code\n",
      "    exec(code_obj, self.user_global_ns, self.user_ns)\n",
      "  File \"<ipython-input-1-b8aa47d204d2>\", line 1, in <module>\n",
      "    get_ipython().run_line_magic('matplotlib', 'inline')\n",
      "  File \"/home/svd/bin/miniconda3/envs/nems_test/lib/python3.6/site-packages/IPython/core/interactiveshell.py\", line 2131, in run_line_magic\n",
      "    result = fn(*args,**kwargs)\n",
      "  File \"<decorator-gen-107>\", line 2, in matplotlib\n",
      "  File \"/home/svd/bin/miniconda3/envs/nems_test/lib/python3.6/site-packages/IPython/core/magic.py\", line 187, in <lambda>\n",
      "    call = lambda f, *a, **k: f(*a, **k)\n",
      "  File \"/home/svd/bin/miniconda3/envs/nems_test/lib/python3.6/site-packages/IPython/core/magics/pylab.py\", line 99, in matplotlib\n",
      "    gui, backend = self.shell.enable_matplotlib(args.gui)\n",
      "  File \"/home/svd/bin/miniconda3/envs/nems_test/lib/python3.6/site-packages/IPython/core/interactiveshell.py\", line 3051, in enable_matplotlib\n",
      "    pt.activate_matplotlib(backend)\n",
      "  File \"/home/svd/bin/miniconda3/envs/nems_test/lib/python3.6/site-packages/IPython/core/pylabtools.py\", line 311, in activate_matplotlib\n",
      "    matplotlib.pyplot.switch_backend(backend)\n",
      "  File \"/home/svd/bin/miniconda3/envs/nems_test/lib/python3.6/site-packages/matplotlib/pyplot.py\", line 231, in switch_backend\n",
      "    matplotlib.use(newbackend, warn=False, force=True)\n",
      "  File \"/home/svd/bin/miniconda3/envs/nems_test/lib/python3.6/site-packages/matplotlib/__init__.py\", line 1422, in use\n",
      "    reload(sys.modules['matplotlib.backends'])\n",
      "  File \"/home/svd/bin/miniconda3/envs/nems_test/lib/python3.6/importlib/__init__.py\", line 166, in reload\n",
      "    _bootstrap._exec(spec, module)\n",
      "  File \"/home/svd/bin/miniconda3/envs/nems_test/lib/python3.6/site-packages/matplotlib/backends/__init__.py\", line 16, in <module>\n",
      "    line for line in traceback.format_stack()\n",
      "\n",
      "\n",
      "  matplotlib.use(\"Qt5Agg\")\n"
     ]
    }
   ],
   "source": [
    "%matplotlib inline\n",
    "import os\n",
    "import logging\n",
    "import pandas as pd\n",
    "import pickle\n",
    "import sys\n",
    "import numpy as np\n",
    "\n",
    "from nems.gui.recording_browser import browse_recording, browse_context\n",
    "import nems\n",
    "import nems.initializers\n",
    "import nems.priors\n",
    "import nems.preprocessing as preproc\n",
    "import nems.plots.api as nplt\n",
    "import nems.modelspec as ms\n",
    "import nems.xforms as xforms\n",
    "import nems.utils\n",
    "import nems.uri\n",
    "import nems.recording as recording\n",
    "from nems.signal import RasterizedSignal\n",
    "from nems.fitters.api import scipy_minimize\n",
    "import nems.db as nd\n",
    "\n",
    "log = logging.getLogger(__name__)\n"
   ]
  },
  {
   "cell_type": "markdown",
   "metadata": {},
   "source": [
    "here's the loading/parameter setting part"
   ]
  },
  {
   "cell_type": "code",
   "execution_count": 2,
   "metadata": {},
   "outputs": [],
   "source": [
    "# ----------------------------------------------------------------------------\n",
    "# LOAD AND FORMAT RECORDING DATA\n",
    "\n",
    "# data file and results locations\n",
    "# defined in nems/nems/configs/settings.py, which will override\n",
    "# defaults in nems/nems/configs/defaults.py\n",
    "results_dir = nems.get_setting('NEMS_RESULTS_DIR')\n",
    "recordings_dir = nems.get_setting('NEMS_RECORDINGS_DIR')\n",
    "\n",
    "# 2p data from Polley Lab at EPL\n",
    "respfile = os.path.join(recordings_dir, 'data_nems_2p/neurons.csv')\n",
    "stimfile = os.path.join(recordings_dir, 'data_nems_2p/stim_spectrogram.csv')\n",
    "exptid = \"POL001\"\n",
    "cellid = \"POL001-080\"\n",
    "batch = 1  # define the group of data this belong to (eg, 1: A1, 2: AAF, etc)\n",
    "load_command='nems.demo.loaders.load_polley_data'\n",
    "\n",
    "# MODEL SPEC\n",
    "# modelspecname = 'dlog_wcg18x1_stp1_fir1x15_lvl1_dexp1'\n",
    "modelspecname = 'wc.9x1.g-fir.1x15-lvl.1'\n",
    "modelspecname = 'dlog-wc.9x2.g-fir.2x15-lvl.1'\n",
    "meta = {'cellid': cellid, 'batch': batch, 'modelname': modelspecname}\n"
   ]
  },
  {
   "cell_type": "code",
   "execution_count": null,
   "metadata": {},
   "outputs": [],
   "source": [
    "from nems.demo.loaders import load_polley_data\n",
    "r = load_polley_data(load_command=load_command,\n",
    "                respfile=respfile,\n",
    "                stimfile=stimfile,\n",
    "                exptid=exptid,\n",
    "                cellid=cellid)"
   ]
  },
  {
   "cell_type": "code",
   "execution_count": 25,
   "metadata": {},
   "outputs": [
    {
     "name": "stdout",
     "output_type": "stream",
     "text": [
      "dict_keys(['fs', 'resp', 'stim', 'stim_labels', 'resp_labels'])\n",
      "(9, 85051)\n"
     ]
    }
   ],
   "source": [
    "print(r.keys())\n",
    "print(r['stim'].shape)"
   ]
  },
  {
   "cell_type": "code",
   "execution_count": 3,
   "metadata": {},
   "outputs": [],
   "source": [
    "xfspec = []\n",
    "xfspec.append(['nems.xforms.load_recording_wrapper',\n",
    "               {'load_command': load_command,\n",
    "                'respfile': respfile,\n",
    "                'stimfile': stimfile,\n",
    "                'exptid': exptid,\n",
    "                'cellid': cellid}])\n",
    "\n",
    "# reserve 10% of the data for validation\n",
    "xfspec.append(['nems.xforms.split_at_time', {'valfrac': 0.1}])\n",
    "\n",
    "xfspec.append(['nems.xforms.init_from_keywords',\n",
    "               {'keywordstring': modelspecname, 'meta': meta}])\n",
    "\n",
    "xfspec.append(['nems.xforms.fit_basic_init', {}])\n",
    "xfspec.append(['nems.xforms.fit_basic', {}])\n",
    "xfspec.append(['nems.xforms.predict',    {}])\n",
    "# xfspec.append(['nems.xforms.add_summary_statistics',    {}])\n",
    "xfspec.append(['nems.analysis.api.standard_correlation', {},\n",
    "               ['est', 'val', 'modelspec', 'rec'], ['modelspec']])\n",
    "xfspec.append(['nems.xforms.plot_summary',    {}])\n"
   ]
  },
  {
   "cell_type": "code",
   "execution_count": 4,
   "metadata": {},
   "outputs": [
    {
     "data": {
      "text/plain": [
       "[['nems.xforms.load_recording_wrapper',\n",
       "  {'load_command': 'nems.demo.loaders.load_polley_data',\n",
       "   'respfile': '/auto/users/svd/projects/nems_test/recordings/data_nems_2p/neurons.csv',\n",
       "   'stimfile': '/auto/users/svd/projects/nems_test/recordings/data_nems_2p/stim_spectrogram.csv',\n",
       "   'exptid': 'POL001',\n",
       "   'cellid': 'POL001-080'}],\n",
       " ['nems.xforms.split_at_time', {'valfrac': 0.1}],\n",
       " ['nems.xforms.init_from_keywords',\n",
       "  {'keywordstring': 'dlog-wc.9x2.g-fir.2x15-lvl.1',\n",
       "   'meta': {'cellid': 'POL001-080',\n",
       "    'batch': 1,\n",
       "    'modelname': 'dlog-wc.9x2.g-fir.2x15-lvl.1'}}],\n",
       " ['nems.xforms.fit_basic_init', {}],\n",
       " ['nems.xforms.fit_basic', {}],\n",
       " ['nems.xforms.predict', {}],\n",
       " ['nems.analysis.api.standard_correlation',\n",
       "  {},\n",
       "  ['est', 'val', 'modelspec', 'rec'],\n",
       "  ['modelspec']],\n",
       " ['nems.xforms.plot_summary', {}]]"
      ]
     },
     "execution_count": 4,
     "metadata": {},
     "output_type": "execute_result"
    }
   ],
   "source": [
    "xfspec"
   ]
  },
  {
   "cell_type": "code",
   "execution_count": 5,
   "metadata": {},
   "outputs": [
    {
     "name": "stderr",
     "output_type": "stream",
     "text": [
      "[nems.xforms INFO] Evaluating: nems.xforms.load_recording_wrapper\n",
      "[nems.xforms INFO] Loading cached file /auto/users/svd/projects/nems_test/recordings/POL001_6d39a8c6f579f8762d24e0e88955bb216c6b5e0f.tgz\n",
      "[nems.xforms INFO] match found, extracting channel from rec\n",
      "[nems.xforms INFO] Evaluating: nems.xforms.split_at_time\n",
      "[nems.xforms INFO] Evaluating: nems.xforms.init_from_keywords\n",
      "[nems.initializers INFO] kw: dlog\n",
      "[nems.initializers INFO] kw: wc.9x2.g\n",
      "[nems.initializers INFO] kw: fir.2x15\n",
      "[nems.initializers INFO] kw: lvl.1\n",
      "[nems.xforms INFO] Evaluating: nems.xforms.fit_basic_init\n",
      "[nems.initializers INFO] target_module: levelshift found at modelspec[3].\n",
      "[nems.fitters.fitter INFO] Starting sigma: [0.0, 0.41666666666666663, 0.5833333333333333, 0.3191538243211462, 0.3191538243211462, 0.0, 0.0, 0.0, 0.0, 0.0, 0.0, 0.0, 0.0, 0.0, 0.0, 0.0, 0.0, 0.0, 0.0, 0.0, 0.0, 0.0, 0.0, 0.0, 0.0, 0.0, 0.0, 0.0, 0.0, 0.0, 0.0, 0.0, 0.0, 0.0, 0.0, 0.0]\n",
      "\n",
      "/home/svd/bin/miniconda3/envs/nems_test/lib/python3.6/site-packages/scipy/signal/signaltools.py:1341: FutureWarning: Using a non-tuple sequence for multidimensional indexing is deprecated; use `arr[tuple(seq)]` instead of `arr[seq]`. In the future this will be interpreted as an array index, `arr[np.array(seq)]`, which will result either in an error or a different result.\n",
      "  out_full[ind] += zi\n",
      "/home/svd/bin/miniconda3/envs/nems_test/lib/python3.6/site-packages/scipy/signal/signaltools.py:1344: FutureWarning: Using a non-tuple sequence for multidimensional indexing is deprecated; use `arr[tuple(seq)]` instead of `arr[seq]`. In the future this will be interpreted as an array index, `arr[np.array(seq)]`, which will result either in an error or a different result.\n",
      "  out = out_full[ind]\n",
      "/home/svd/bin/miniconda3/envs/nems_test/lib/python3.6/site-packages/scipy/signal/signaltools.py:1350: FutureWarning: Using a non-tuple sequence for multidimensional indexing is deprecated; use `arr[tuple(seq)]` instead of `arr[seq]`. In the future this will be interpreted as an array index, `arr[np.array(seq)]`, which will result either in an error or a different result.\n",
      "  zf = out_full[ind]\n",
      "[nems.analysis.cost_functions INFO] Eval #100. E=0.999889\n",
      "[nems.analysis.cost_functions INFO] Eval #200. E=0.995149\n",
      "[nems.analysis.cost_functions INFO] Eval #300. E=0.962456\n",
      "[nems.analysis.cost_functions INFO] Eval #400. E=0.954067\n",
      "[nems.analysis.cost_functions INFO] Eval #500. E=1.576516\n",
      "[nems.analysis.cost_functions INFO] Eval #600. E=0.850677\n",
      "[nems.analysis.cost_functions INFO] Eval #700. E=1.020726\n",
      "[nems.analysis.cost_functions INFO] Eval #800. E=0.850314\n",
      "[nems.analysis.cost_functions INFO] Eval #900. E=1.108856\n",
      "[nems.analysis.cost_functions INFO] Eval #1000. E=0.834532\n",
      "[nems.analysis.cost_functions INFO] Eval #1100. E=0.826656\n",
      "[nems.analysis.cost_functions INFO] Eval #1200. E=0.778482\n",
      "[nems.analysis.cost_functions INFO] Eval #1300. E=0.776538\n",
      "[nems.analysis.cost_functions INFO] Eval #1400. E=1.091854\n",
      "[nems.analysis.cost_functions INFO] Eval #1500. E=0.774240\n",
      "[nems.analysis.cost_functions INFO] Eval #1600. E=1.173622\n",
      "[nems.analysis.cost_functions INFO] Eval #1700. E=1.025097\n",
      "[nems.analysis.cost_functions INFO] Eval #1800. E=0.774092\n",
      "[nems.analysis.cost_functions INFO] Eval #1900. E=0.774092\n",
      "[nems.analysis.cost_functions INFO] Eval #2000. E=0.774089\n",
      "[nems.analysis.cost_functions INFO] Eval #2100. E=0.774089\n",
      "[nems.analysis.cost_functions INFO] Eval #2200. E=0.773698\n",
      "[nems.analysis.cost_functions INFO] Eval #2300. E=0.770469\n",
      "[nems.analysis.cost_functions INFO] Eval #2400. E=0.760491\n",
      "[nems.analysis.cost_functions INFO] Eval #2500. E=0.751009\n",
      "[nems.analysis.cost_functions INFO] Eval #2600. E=0.743147\n",
      "[nems.analysis.cost_functions INFO] Eval #2700. E=0.745663\n",
      "[nems.analysis.cost_functions INFO] Eval #2800. E=0.733059\n",
      "[nems.analysis.cost_functions INFO] Eval #2900. E=0.731278\n",
      "[nems.analysis.cost_functions INFO] Eval #3000. E=0.729182\n",
      "[nems.analysis.cost_functions INFO] Eval #3100. E=0.729137\n",
      "[nems.analysis.cost_functions INFO] Eval #3200. E=0.729044\n",
      "[nems.analysis.cost_functions INFO] Eval #3300. E=0.728678\n",
      "[nems.analysis.cost_functions INFO] Eval #3400. E=0.728599\n",
      "[nems.analysis.cost_functions INFO] Eval #3500. E=0.728091\n",
      "[nems.fitters.fitter INFO] Final error: 0.728047\n",
      "[nems.fitters.fitter INFO] Final sigma: [ 2.00138274e+00  6.31042580e-01  7.25634451e-01  5.46103967e-01\n",
      " -2.12716718e-03  9.54941127e-02  1.45629533e-01  7.73574252e-02\n",
      " -3.01466403e-01 -6.23449770e-01 -1.39897139e-01  1.11051225e-02\n",
      "  2.55758516e-02  1.29760298e-01  1.11757115e-01  1.12438397e-01\n",
      "  1.43609831e-01  8.76470750e-02  1.15504834e-01  1.15249558e-01\n",
      "  1.00754206e-01  9.71037603e-02  6.30113586e-01  4.84229477e+00\n",
      "  6.38227590e+00  2.64425172e+00  1.05379939e+00  5.48901613e-01\n",
      "  1.17707121e-01  7.50275650e-03  5.69123697e-03 -2.63390895e-02\n",
      " -2.53253362e-02 -2.96284053e-02 -2.81346010e-02  2.64171011e-03]\n",
      "\n",
      "[nems.xforms INFO] Evaluating: nems.xforms.fit_basic\n",
      "[nems.fitters.fitter INFO] Starting sigma: [2.0013827418683583, 0.6310425801456778, 0.7256344507279162, 0.5461039668702414, -0.0021271671816283227, 0.09549411271858221, 0.14562953315126748, 0.0773574252411258, -0.3014664028012383, -0.6234497695070228, -0.1398971386280844, 0.01110512247203748, 0.025575851590738292, 0.12976029758837543, 0.1117571152032889, 0.11243839706389507, 0.1436098312454918, 0.08764707498910845, 0.11550483370414236, 0.115249558499702, 0.10075420632769541, 0.0971037603082648, 0.6301135856078436, 4.8422947687864095, 6.382275897867665, 2.6442517226275806, 1.0537993908504755, 0.5489016132072287, 0.11770712140338528, 0.007502756504114415, 0.0056912369714119965, -0.026339089531749307, -0.025325336209796937, -0.029628405261683012, -0.028134601035216852, 0.002641710113735986]\n",
      "\n",
      "[nems.analysis.cost_functions INFO] Eval #100. E=0.727872\n",
      "[nems.analysis.cost_functions INFO] Eval #200. E=0.727548\n",
      "[nems.analysis.cost_functions INFO] Eval #300. E=0.727282\n",
      "[nems.analysis.cost_functions INFO] Eval #400. E=0.727251\n",
      "[nems.analysis.cost_functions INFO] Eval #500. E=0.727275\n",
      "[nems.analysis.cost_functions INFO] Eval #600. E=0.727153\n",
      "[nems.analysis.cost_functions INFO] Eval #700. E=0.727085\n",
      "[nems.analysis.cost_functions INFO] Eval #800. E=0.727008\n",
      "[nems.analysis.cost_functions INFO] Eval #900. E=0.726569\n",
      "[nems.analysis.cost_functions INFO] Eval #1000. E=0.725707\n",
      "[nems.analysis.cost_functions INFO] Eval #1100. E=0.725576\n",
      "[nems.analysis.cost_functions INFO] Eval #1200. E=0.725792\n",
      "[nems.analysis.cost_functions INFO] Eval #1300. E=0.725055\n",
      "[nems.analysis.cost_functions INFO] Eval #1400. E=0.724643\n",
      "[nems.analysis.cost_functions INFO] Eval #1500. E=0.724239\n",
      "[nems.analysis.cost_functions INFO] Eval #1600. E=0.723997\n",
      "[nems.analysis.cost_functions INFO] Eval #1700. E=0.723919\n",
      "[nems.analysis.cost_functions INFO] Eval #1800. E=0.723859\n",
      "[nems.analysis.cost_functions INFO] Eval #1900. E=0.723790\n",
      "[nems.analysis.cost_functions INFO] Eval #2000. E=0.723763\n",
      "[nems.analysis.cost_functions INFO] Eval #2100. E=0.723762\n",
      "[nems.analysis.cost_functions INFO] Eval #2200. E=0.726877\n",
      "[nems.analysis.cost_functions INFO] Eval #2300. E=0.723703\n",
      "[nems.analysis.cost_functions INFO] Eval #2400. E=0.723635\n",
      "[nems.analysis.cost_functions INFO] Eval #2500. E=0.723629\n",
      "[nems.analysis.cost_functions INFO] Eval #2600. E=0.723627\n",
      "[nems.analysis.cost_functions INFO] Eval #2700. E=0.723640\n",
      "[nems.analysis.cost_functions INFO] Eval #2800. E=0.723611\n",
      "[nems.analysis.cost_functions INFO] Eval #2900. E=0.723591\n",
      "[nems.analysis.cost_functions INFO] Eval #3000. E=0.723611\n",
      "[nems.analysis.cost_functions INFO] Eval #3100. E=0.723589\n",
      "[nems.analysis.cost_functions INFO] Eval #3200. E=0.723588\n",
      "[nems.fitters.fitter INFO] Final error: 0.723588\n",
      "[nems.fitters.fitter INFO] Final sigma: [ 4.75744540e+01 -1.33714351e+00  7.25634451e-01  1.99624040e+01\n",
      " -2.12716718e-03 -9.56329785e-02  1.21277836e+00  5.08711025e-01\n",
      "  2.20488746e+00 -2.12770025e+00  4.98436338e-01  3.92782439e-01\n",
      " -9.97597353e-01  4.13567378e-01 -3.20012072e-01 -5.98700820e-01\n",
      "  3.54159643e-01  1.91096349e-01  4.09341979e-01 -1.05983671e-01\n",
      "  8.82000525e-01  6.74087348e-01  4.22745601e+00  3.22714905e+01\n",
      "  4.27504756e+01  1.78041928e+01  7.34386582e+00  3.92787679e+00\n",
      "  8.44220491e-01  2.40692459e-01  2.05558894e-01 -1.06179944e-01\n",
      "  1.87560339e-01  5.17163911e-02  1.57638143e-02  2.54508798e-03]\n",
      "\n"
     ]
    },
    {
     "name": "stderr",
     "output_type": "stream",
     "text": [
      "[nems.xforms INFO] Evaluating: nems.xforms.predict\n",
      "[nems.xforms INFO] Evaluating: nems.analysis.api.standard_correlation\n",
      "[nems.xforms INFO] Evaluating: nems.xforms.plot_summary\n",
      "[nems.plots.quickplot INFO] Running quickplot\n",
      "[nems.plots.quickplot INFO] quickplot for SIGNAL epochs\n"
     ]
    },
    {
     "name": "stdout",
     "output_type": "stream",
     "text": [
      "CHANS: \n",
      "['4.0', '5.7', '8.0', '11.3', '16.0', '22.6', '32.0', '45.3', '64.0']\n"
     ]
    },
    {
     "name": "stderr",
     "output_type": "stream",
     "text": [
      "[nems.xforms INFO] Done (re-)evaluating xforms.\n"
     ]
    },
    {
     "data": {
      "image/png": "[encoded data removed]",
      "text/plain": [
       "<Figure size 720x864 with 5 Axes>"
      ]
     },
     "metadata": {},
     "output_type": "display_data"
    }
   ],
   "source": [
    "# actually do the fit\n",
    "ctx, log_xf = xforms.evaluate(xfspec)\n",
    "\n",
    "# shorthand for:\n",
    "# ctx = {}\n",
    "# for xfa in xfspec:\n",
    "#     ctx = xforms.evaluate_step(xfa, ctx)\n"
   ]
  },
  {
   "cell_type": "code",
   "execution_count": 7,
   "metadata": {},
   "outputs": [
    {
     "data": {
      "text/plain": [
       "{'resp': <nems.signal.RasterizedSignal at 0x7fbd50e3a588>,\n",
       " 'stim': <nems.signal.RasterizedSignal at 0x7fbd50e3a2e8>,\n",
       " 'pred': <nems.signal.RasterizedSignal at 0x7fbd50e3da58>}"
      ]
     },
     "execution_count": 7,
     "metadata": {},
     "output_type": "execute_result"
    }
   ],
   "source": [
    "ctx['val'].signals"
   ]
  },
  {
   "cell_type": "code",
   "execution_count": 10,
   "metadata": {},
   "outputs": [
    {
     "name": "stderr",
     "output_type": "stream",
     "text": [
      "/home/svd/bin/miniconda3/envs/nems_test/lib/python3.6/site-packages/matplotlib/figure.py:457: UserWarning: matplotlib is currently using a non-GUI backend, so cannot show the figure\n",
      "  \"matplotlib is currently using a non-GUI backend, \"\n"
     ]
    },
    {
     "data": {
      "image/png": "[encoded data removed]",
      "text/plain": [
       "<Figure size 432x288 with 4 Axes>"
      ]
     },
     "metadata": {},
     "output_type": "display_data"
    }
   ],
   "source": [
    "# testing new plotting system\n",
    "modelspec = ctx['modelspec']\n",
    "modelspec[0]['plot_fn_idx']=2\n",
    "fig=modelspec.quickplot(ctx['val'])\n",
    "fig.show()\n"
   ]
  },
  {
   "cell_type": "code",
   "execution_count": 11,
   "metadata": {},
   "outputs": [
    {
     "data": {
      "text/plain": [
       "{'cellid': 'POL001-080',\n",
       " 'batch': 1,\n",
       " 'modelname': 'dlog-wc.9x2.g-fir.2x15-lvl.1',\n",
       " 'fitter': 'fit_basic',\n",
       " 'fit_time': 48.752553939819336,\n",
       " 'n_parms': 36,\n",
       " 'r_test': array([0.77461431]),\n",
       " 'se_test': array([0.03118736]),\n",
       " 'r_floor': array([0.0528002]),\n",
       " 'mse_test': array([0.66229799]),\n",
       " 'se_mse_test': array([0.02924614]),\n",
       " 'll_test': 0.45891389881767575,\n",
       " 'r_fit': array([0.69024159]),\n",
       " 'se_fit': array([0.01414273]),\n",
       " 'r_ceiling': 0,\n",
       " 'mse_fit': array([0.7235967]),\n",
       " 'se_mse_fit': array([0.01347019]),\n",
       " 'll_fit': 0.5222135091939346}"
      ]
     },
     "execution_count": 11,
     "metadata": {},
     "output_type": "execute_result"
    }
   ],
   "source": [
    "modelspec.meta()"
   ]
  },
  {
   "cell_type": "code",
   "execution_count": 12,
   "metadata": {},
   "outputs": [
    {
     "name": "stderr",
     "output_type": "stream",
     "text": [
      "[__main__ INFO] Saving modelspec(s) to /auto/users/svd/projects/nems_test/results/1/POL001-080/unknown_recording.dlog_wc.9x2.g_fir.2x15_lvl.1.fit_basic.2018-12-05T211722 ...\n",
      "[__main__ INFO] Saving metadata to db  ...\n"
     ]
    },
    {
     "data": {
      "text/plain": [
       "3"
      ]
     },
     "execution_count": 12,
     "metadata": {},
     "output_type": "execute_result"
    }
   ],
   "source": [
    "# ----------------------------------------------------------------------------\n",
    "# SAVE YOUR RESULTS\n",
    "\n",
    "# save results to file\n",
    "destination = os.path.join(results_dir, str(batch), xforms.get_meta(ctx)['cellid'],\n",
    "                           ms.get_modelspec_longname(ctx['modelspec']))\n",
    "log.info('Saving modelspec(s) to {0} ...'.format(destination))\n",
    "xforms.save_analysis(destination,\n",
    "                     recording=ctx['rec'],\n",
    "                     modelspec=ctx['modelspec'],\n",
    "                     xfspec=xfspec,\n",
    "                     figures=ctx['figures'],\n",
    "                     log=log_xf)\n",
    "\n",
    "# save summary of results to a database\n",
    "log.info('Saving metadata to db  ...')\n",
    "modelspec = ctx['modelspec']\n",
    "modelspec.meta()['modelpath'] = destination\n",
    "modelspec.meta()['figurefile'] = destination + 'figure.0000.png'\n",
    "nd.update_results_table(modelspec)\n",
    "    "
   ]
  },
  {
   "cell_type": "code",
   "execution_count": null,
   "metadata": {},
   "outputs": [],
   "source": []
  },
  {
   "cell_type": "code",
   "execution_count": 2,
   "metadata": {},
   "outputs": [
    {
     "name": "stderr",
     "output_type": "stream",
     "text": [
      "[nems.xforms INFO] Loading modelspec from /auto/users/svd/projects/nems_test/results/1/POL001-080/unknown_recording.wc.9x1.g_fir.1x15_lvl.1.fit_basic.2018-12-05T210456/...\n",
      "[nems.xforms INFO] Evaluating: nems.xforms.load_recording_wrapper\n",
      "[nems.xforms INFO] Loading cached file /auto/users/svd/projects/nems_test/recordings/POL001_6d39a8c6f579f8762d24e0e88955bb216c6b5e0f.tgz\n",
      "[nems.xforms INFO] match found, extracting channel from rec\n",
      "[nems.xforms INFO] Evaluating: nems.xforms.split_at_time\n",
      "[nems.xforms INFO] Evaluating: nems.xforms.init_from_keywords\n",
      "[nems.xforms INFO] Evaluating: nems.xforms.fit_basic_init\n",
      "[nems.xforms INFO] Evaluating: nems.xforms.fit_basic\n",
      "[nems.xforms INFO] Evaluating: nems.xforms.predict\n",
      "/home/svd/bin/miniconda3/envs/nems_test/lib/python3.6/site-packages/scipy/signal/signaltools.py:1341: FutureWarning: Using a non-tuple sequence for multidimensional indexing is deprecated; use `arr[tuple(seq)]` instead of `arr[seq]`. In the future this will be interpreted as an array index, `arr[np.array(seq)]`, which will result either in an error or a different result.\n",
      "  out_full[ind] += zi\n",
      "/home/svd/bin/miniconda3/envs/nems_test/lib/python3.6/site-packages/scipy/signal/signaltools.py:1344: FutureWarning: Using a non-tuple sequence for multidimensional indexing is deprecated; use `arr[tuple(seq)]` instead of `arr[seq]`. In the future this will be interpreted as an array index, `arr[np.array(seq)]`, which will result either in an error or a different result.\n",
      "  out = out_full[ind]\n",
      "/home/svd/bin/miniconda3/envs/nems_test/lib/python3.6/site-packages/scipy/signal/signaltools.py:1350: FutureWarning: Using a non-tuple sequence for multidimensional indexing is deprecated; use `arr[tuple(seq)]` instead of `arr[seq]`. In the future this will be interpreted as an array index, `arr[np.array(seq)]`, which will result either in an error or a different result.\n",
      "  zf = out_full[ind]\n",
      "[nems.xforms INFO] Evaluating: nems.analysis.api.standard_correlation\n",
      "[nems.xforms INFO] Evaluating: nems.xforms.plot_summary\n",
      "[nems.xforms INFO] Done (re-)evaluating xforms.\n"
     ]
    }
   ],
   "source": [
    "# reload using:\n",
    "# repeated from above\n",
    "import nems.db as nd\n",
    "import nems.xforms as xforms\n",
    "\n",
    "# pick your cell/batch/model\n",
    "cellid = \"POL001-080\"\n",
    "batch = 1  # define the group of data this belong to (eg, 1: A1, 2: AAF, etc)\n",
    "modelspecname = 'wc.9x1.g-fir.1x15-lvl.1'\n",
    "\n",
    "# find the results in the database\n",
    "d=nd.get_results_file(batch=batch, cellids=[cellid], modelnames=[modelspecname])\n",
    "d.loc[0]\n",
    "filepath = d['modelpath'][0] + '/'\n",
    "\n",
    "# load and display results\n",
    "xfspec, ctx = xforms.load_analysis(filepath, eval_model=True)\n"
   ]
  },
  {
   "cell_type": "code",
   "execution_count": 20,
   "metadata": {},
   "outputs": [
    {
     "data": {
      "text/html": [
       "<div>\n",
       "<style scoped>\n",
       "    .dataframe tbody tr th:only-of-type {\n",
       "        vertical-align: middle;\n",
       "    }\n",
       "\n",
       "    .dataframe tbody tr th {\n",
       "        vertical-align: top;\n",
       "    }\n",
       "\n",
       "    .dataframe thead th {\n",
       "        text-align: right;\n",
       "    }\n",
       "</style>\n",
       "<table border=\"1\" class=\"dataframe\">\n",
       "  <thead>\n",
       "    <tr style=\"text-align: right;\">\n",
       "      <th></th>\n",
       "      <th>modelname</th>\n",
       "      <th>r_test</th>\n",
       "      <th>figurefile</th>\n",
       "    </tr>\n",
       "  </thead>\n",
       "  <tbody>\n",
       "    <tr>\n",
       "      <th>0</th>\n",
       "      <td>dlog-wc.9x2.g-fir.2x15-lvl.1</td>\n",
       "      <td>0.774614</td>\n",
       "      <td>/auto/users/svd/projects/nems_test/results/1/P...</td>\n",
       "    </tr>\n",
       "    <tr>\n",
       "      <th>1</th>\n",
       "      <td>wc.9x1.g-fir.1x15-lvl.1</td>\n",
       "      <td>0.775670</td>\n",
       "      <td>/auto/users/svd/projects/nems_test/results/1/P...</td>\n",
       "    </tr>\n",
       "  </tbody>\n",
       "</table>\n",
       "</div>"
      ],
      "text/plain": [
       "                      modelname    r_test  \\\n",
       "0  dlog-wc.9x2.g-fir.2x15-lvl.1  0.774614   \n",
       "1       wc.9x1.g-fir.1x15-lvl.1  0.775670   \n",
       "\n",
       "                                          figurefile  \n",
       "0  /auto/users/svd/projects/nems_test/results/1/P...  \n",
       "1  /auto/users/svd/projects/nems_test/results/1/P...  "
      ]
     },
     "execution_count": 20,
     "metadata": {},
     "output_type": "execute_result"
    }
   ],
   "source": [
    "import nems.db as nd\n",
    "import nems.xforms as xforms\n",
    "\n",
    "# pick your cell/batch/model\n",
    "cellid = \"POL001-080\"\n",
    "batch = 1  # define the group of data this belong to (eg, 1: A1, 2: AAF, etc)\n",
    "modelspecname = 'wc.9x1.g-fir.1x15-lvl.1'\n",
    "\n",
    "# find the results in the database\n",
    "d=nd.get_results_file(batch=batch, cellids=[cellid])\n",
    "d[['modelname','r_test','figurefile']]"
   ]
  },
  {
   "cell_type": "code",
   "execution_count": null,
   "metadata": {},
   "outputs": [],
   "source": []
  },
  {
   "cell_type": "code",
   "execution_count": 6,
   "metadata": {},
   "outputs": [
    {
     "data": {
      "text/plain": [
       "{'cellid': 'POL001-080',\n",
       " 'batch': 1,\n",
       " 'modelname': 'wc.9x1.g-fir.1x15-lvl.1',\n",
       " 'fitter': 'fit_basic',\n",
       " 'fit_time': 0.44434118270874023,\n",
       " 'n_parms': 18,\n",
       " 'r_test': array([0.77566994]),\n",
       " 'se_test': array([0.03108066]),\n",
       " 'r_floor': array([0.04457513]),\n",
       " 'mse_test': array([0.66091728]),\n",
       " 'se_mse_test': array([0.02945958]),\n",
       " 'll_test': 0.4482404081957795,\n",
       " 'r_fit': array([0.6913715]),\n",
       " 'se_fit': array([0.01415284]),\n",
       " 'r_ceiling': 0,\n",
       " 'mse_fit': array([0.72251715]),\n",
       " 'se_mse_fit': array([0.01355246]),\n",
       " 'll_fit': 0.48364801153937,\n",
       " 'xfspec': '/auto/users/svd/projects/nems_test/results/1/POL001-080/unknown_recording.wc.9x1.g_fir.1x15_lvl.1.fit_basic.2018-12-05T210456/xfspec.json'}"
      ]
     },
     "execution_count": 6,
     "metadata": {},
     "output_type": "execute_result"
    }
   ],
   "source": [
    "modelspec=ctx['modelspec']\n",
    "modelspec.meta()"
   ]
  }
 ],
 "metadata": {
  "kernelspec": {
   "display_name": "Python 3",
   "language": "python",
   "name": "python3"
  },
  "language_info": {
   "codemirror_mode": {
    "name": "ipython",
    "version": 3
   },
   "file_extension": ".py",
   "mimetype": "text/x-python",
   "name": "python",
   "nbconvert_exporter": "python",
   "pygments_lexer": "ipython3",
   "version": "3.6.5"
  }
 },
 "nbformat": 4,
 "nbformat_minor": 2
}
